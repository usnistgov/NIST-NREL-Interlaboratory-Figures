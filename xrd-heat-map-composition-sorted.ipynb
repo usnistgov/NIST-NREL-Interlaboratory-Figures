{
 "cells": [
  {
   "cell_type": "markdown",
   "metadata": {},
   "source": [
    "# Plot XRD Patterns as a Heat Map sorted by relative Sn Composition\n",
    "\n",
    "This notebook downloads all data and plots XRD heat maps. This notebook supports the publication:\n",
    "\n",
    "An Inter-Laboratory Comparative High Throughput Experimental Study of Zn-Sn-Ti-O Thin Films\n",
    "\n",
    "J. R. Hattrick-Simpers<sup>1</sup>, A. Zakutayev<sup>2</sup>, S. C. Barron<sup>1</sup>, Z. T. Trautt<sup>1</sup>, N. Nguyen<sup>1</sup>, K. Choudhary<sup>1</sup>, B. DeCost<sup>1</sup>, C. Phillips<sup>2</sup>, A. G. Kusne<sup>1</sup>, F. Yi<sup>1</sup>, A. Mehta<sup>3</sup>, I. Takeuchi<sup>4</sup>, J. D.Perkins<sup>2</sup>, M. L. Green<sup>1</sup>\n",
    "\n",
    "1. National Institute of Standards and Technology (NIST), Gaithersburg, MD\n",
    "\n",
    "1. National Renewable Energy Laboratory (NREL), Golden, CO\n",
    "\n",
    "1. SLAC National Accelerator Laboratory, Menlo Park, CA\n",
    "\n",
    "1. University of Maryland, College Park, MD\n",
    "\n",
    "Contact: [htems@nist.gov](mailto:htems@nist.gov)"
   ]
  },
  {
   "cell_type": "markdown",
   "metadata": {},
   "source": [
    "# Imports and Functions"
   ]
  },
  {
   "cell_type": "code",
   "execution_count": 1,
   "metadata": {
    "collapsed": true
   },
   "outputs": [],
   "source": [
    "import warnings\n",
    "warnings.filterwarnings('ignore')\n",
    "import requests\n",
    "requests.packages.urllib3.disable_warnings()\n",
    "import json\n",
    "from collections import OrderedDict\n",
    "import matplotlib\n",
    "import matplotlib.pyplot as plt\n",
    "import pandas as pd\n",
    "import numpy as np\n",
    "from skbeam.core.fitting.background import snip_method\n",
    "from scipy import signal"
   ]
  },
  {
   "cell_type": "code",
   "execution_count": 2,
   "metadata": {
    "collapsed": true
   },
   "outputs": [],
   "source": [
    "def check_response(r,quiet=False):\n",
    "    try:\n",
    "        r_content = r.json(object_pairs_hook=OrderedDict)\n",
    "    except:\n",
    "        r_content = r.text\n",
    "    if str(r.status_code)[0] is not \"2\":\n",
    "        if not quiet: print(\"Error: \",r.status_code) \n",
    "        if not quiet: print(r.text)\n",
    "    else:\n",
    "        return r_content"
   ]
  },
  {
   "cell_type": "code",
   "execution_count": 3,
   "metadata": {
    "collapsed": true
   },
   "outputs": [],
   "source": [
    "def mdcs_query(host,query,format='json'):\n",
    "    url = host.strip(\"/\") + \"/rest/explore/query-by-example\"\n",
    "    data = dict()\n",
    "    data['query'] = query\n",
    "    data['dataformat'] = format\n",
    "    r = requests.post(url, data=data, verify=False) # This needs to be fixed\n",
    "    return check_response(r)"
   ]
  },
  {
   "cell_type": "markdown",
   "metadata": {},
   "source": [
    "# Get the data"
   ]
  },
  {
   "cell_type": "code",
   "execution_count": 4,
   "metadata": {
    "collapsed": true
   },
   "outputs": [],
   "source": [
    "host = \"https://hte.registry.nist.gov/\""
   ]
  },
  {
   "cell_type": "code",
   "execution_count": 5,
   "metadata": {
    "collapsed": true
   },
   "outputs": [],
   "source": [
    "libraries = dict()\n",
    "\n",
    "query = '{\"content.project.identifier.id\":\"20.500.12048/proj.2015.1\"}'\n",
    "query_response = mdcs_query(host,query)\n",
    "project = query_response[0]['content']['project']\n",
    "library_registry = project['library']\n",
    "\n",
    "for lib in library_registry:\n",
    "    lib_id = lib['identifier']['id']\n",
    "    query = '{\"content.library.identifier.id\":\"'+lib_id+'\"}'\n",
    "    query_response = mdcs_query(host,query)\n",
    "    library = query_response[0]['content']['library']\n",
    "    libraries[lib_id] = library"
   ]
  },
  {
   "cell_type": "code",
   "execution_count": null,
   "metadata": {
    "collapsed": true
   },
   "outputs": [],
   "source": [
    "samples = dict()\n",
    "\n",
    "for lib_id,library in libraries.items():\n",
    "    sample_registry = library['sample']\n",
    "    \n",
    "    for sample in sample_registry:\n",
    "        sample_id = sample['identifier'][0]['id']\n",
    "        samples[sample_id] = sample"
   ]
  },
  {
   "cell_type": "code",
   "execution_count": null,
   "metadata": {
    "collapsed": true
   },
   "outputs": [],
   "source": [
    "xrd_patterns = dict()\n",
    "\n",
    "for sample_id,sample in samples.items():\n",
    "    dig_art_registry = sample['digital-artifact']\n",
    "    for da in dig_art_registry:\n",
    "        if 'xrd' in da['altName']:\n",
    "            xrd_identifier = da['identifier']\n",
    "            xrd_id = 0\n",
    "            if isinstance(xrd_identifier,dict):\n",
    "                xrd_id = xrd_identifier['id']\n",
    "            if isinstance(xrd_identifier,list):\n",
    "                xrd_id = xrd_identifier[0]['id']\n",
    "            query = '{\"content.library-xray-diffraction-measurement.identifier.id\":\"'+xrd_id+'\"}'\n",
    "            query_response = mdcs_query(host,query)\n",
    "            xrd_pattern = query_response[0]['content']['library-xray-diffraction-measurement']\n",
    "            xrd_patterns[xrd_id] = xrd_pattern"
   ]
  },
  {
   "cell_type": "code",
   "execution_count": null,
   "metadata": {
    "collapsed": true
   },
   "outputs": [],
   "source": [
    "print(len(xrd_patterns))"
   ]
  },
  {
   "cell_type": "markdown",
   "metadata": {},
   "source": [
    "# Munge Data"
   ]
  },
  {
   "cell_type": "code",
   "execution_count": null,
   "metadata": {
    "collapsed": true
   },
   "outputs": [],
   "source": [
    "Sn_list= list()\n",
    "lib_id_list = list()\n",
    "xrd_id_list = list()\n",
    "\n",
    "for sample_id,sample in samples.items():\n",
    "    lib_id = sample['library']['identifier'][0]['id']\n",
    "    dig_art_registry = sample['digital-artifact']\n",
    "    xrd_id = None\n",
    "    for da in dig_art_registry:\n",
    "        if 'xrd' in da['altName']:\n",
    "            xrd_identifier = da['identifier']\n",
    "            if isinstance(xrd_identifier,dict):\n",
    "                xrd_id = xrd_identifier['id']\n",
    "            if isinstance(xrd_identifier,list):\n",
    "                xrd_id = xrd_identifier[0]['id']\n",
    "    constituent = sample['composition']['constituent']\n",
    "    Sn_q = 0.0\n",
    "    for c in constituent:\n",
    "        if \"Sn\" in c['chemical-formula']:\n",
    "            Sn_q = c['quantity']\n",
    "    \n",
    "    Sn_list.append(Sn_q)\n",
    "    lib_id_list.append(lib_id)\n",
    "    xrd_id_list.append(xrd_id)"
   ]
  },
  {
   "cell_type": "code",
   "execution_count": null,
   "metadata": {
    "collapsed": true
   },
   "outputs": [],
   "source": [
    "Sn_xrd_df = pd.DataFrame()\n",
    "Sn_xrd_df['Sn'] = Sn_list\n",
    "Sn_xrd_df['lib'] = lib_id_list\n",
    "Sn_xrd_df['xrd'] = xrd_id_list"
   ]
  },
  {
   "cell_type": "markdown",
   "metadata": {},
   "source": [
    "# Plot Data"
   ]
  },
  {
   "cell_type": "code",
   "execution_count": null,
   "metadata": {
    "collapsed": true
   },
   "outputs": [],
   "source": [
    "for lib_id,library in libraries.items():\n",
    "    lib_df = Sn_xrd_df[Sn_xrd_df['lib']==lib_id].sort_values(by=['Sn'])\n",
    "\n",
    "    lib_Sn_list = lib_df['Sn'].tolist()\n",
    "    lib_xrd_list = lib_df['xrd'].tolist()\n",
    "    lib_theta_list = xrd_patterns[lib_xrd_list[0]]['data']['angle-2-theta']['value']\n",
    "\n",
    "    xrd_mat = list()\n",
    "    for xrd in lib_xrd_list:\n",
    "        pattern = np.array(xrd_patterns[xrd]['data']['intensity']['value'])\n",
    "        bg = snip_method(pattern,0.0,1.0,0.0,iter_num=20)\n",
    "        pattern_bg_sub = pattern - bg\n",
    "        pattern_norm = pattern_bg_sub/max(pattern_bg_sub)\n",
    "        xrd_mat.append(list(pattern_norm))\n",
    "        \n",
    "\n",
    "    xrd_mat_np = np.array(xrd_mat)\n",
    "    xrd_mat_np_T = np.transpose(xrd_mat_np)\n",
    "\n",
    "    X,Y = np.meshgrid(lib_Sn_list,lib_theta_list)\n",
    "    Z = xrd_mat_np_T\n",
    "\n",
    "    plt.figure(figsize=(6,6))\n",
    "    plt.pcolormesh(X,Y,Z,cmap='inferno',linewidth=0,rasterized=True)\n",
    "    plt.xlabel('Sn/(Sn+Zn+Ti)')\n",
    "    plt.ylabel('2θ (deg)')\n",
    "    cbar = plt.colorbar()\n",
    "    cbar.set_label('Intensity (arb. u.)',rotation=90)\n",
    "    plt.title(lib_id)\n",
    "    f_name = 'xrd-Sn-'+lib_id.replace('20.500.12048/','')+'.pdf'\n",
    "    plt.savefig(f_name, bbox_inches='tight')\n",
    "    plt.show()"
   ]
  },
  {
   "cell_type": "code",
   "execution_count": null,
   "metadata": {
    "collapsed": true
   },
   "outputs": [],
   "source": [
    "theta_min = 30.0\n",
    "theta_max = 40.0\n",
    "\n",
    "for lib_id,library in libraries.items():\n",
    "    lib_df = Sn_xrd_df[Sn_xrd_df['lib']==lib_id].sort_values(by=['Sn'])\n",
    "\n",
    "    lib_Sn_list = lib_df['Sn'].tolist()\n",
    "    lib_xrd_list = lib_df['xrd'].tolist()\n",
    "    lib_theta_list = xrd_patterns[lib_xrd_list[0]]['data']['angle-2-theta']['value']\n",
    "    lib_theta_list_arr = np.array(lib_theta_list)\n",
    "    condition = np.logical_and(lib_theta_list_arr >= theta_min, lib_theta_list_arr <= theta_max)\n",
    "    lib_theta_list_new = lib_theta_list_arr[condition]\n",
    "    lib_theta_list = list(lib_theta_list_new)\n",
    "\n",
    "    xrd_mat = list()\n",
    "    for xrd in lib_xrd_list:\n",
    "        pattern = np.array(xrd_patterns[xrd]['data']['intensity']['value'])\n",
    "        bg = snip_method(pattern,0.0,1.0,0.0,iter_num=20)\n",
    "        pattern_bg_sub = pattern - bg\n",
    "        pattern_range = pattern_bg_sub[condition]\n",
    "        pattern_norm = pattern_range/max(pattern_range)\n",
    "        xrd_mat.append(list(pattern_norm))\n",
    "        \n",
    "\n",
    "    xrd_mat_np = np.array(xrd_mat)\n",
    "    xrd_mat_np_T = np.transpose(xrd_mat_np)\n",
    "\n",
    "    X,Y = np.meshgrid(lib_Sn_list,lib_theta_list)\n",
    "    Z = xrd_mat_np_T\n",
    "\n",
    "    plt.figure(figsize=(6,6))\n",
    "    plt.pcolormesh(X,Y,Z,cmap='inferno',linewidth=0,rasterized=True)\n",
    "    plt.xlabel('Sn/(Sn+Zn+Ti)')\n",
    "    plt.ylabel('2θ (deg)')\n",
    "    cbar = plt.colorbar()\n",
    "    cbar.set_label('Intensity (arb. u.)',rotation=90)\n",
    "    plt.title(lib_id)\n",
    "    f_name = 'xrd-Sn-range-'+lib_id.replace('20.500.12048/','')+'.pdf'\n",
    "    plt.savefig(f_name, bbox_inches='tight')\n",
    "    plt.show()"
   ]
  },
  {
   "cell_type": "code",
   "execution_count": null,
   "metadata": {
    "collapsed": true
   },
   "outputs": [],
   "source": [
    "theta_min = 30.0\n",
    "theta_max = 40.0\n",
    "\n",
    "nrel_1 = \"20.500.12048/lib.2016.1a\"\n",
    "nrel_2 = \"20.500.12048/lib.2016.2a\"\n",
    "nrel_3 = \"20.500.12048/lib.2016.3a\"\n",
    "\n",
    "stitch_condition = (Sn_xrd_df['lib']==nrel_1) | (Sn_xrd_df['lib']==nrel_2) | (Sn_xrd_df['lib']==nrel_3)\n",
    "lib_df = Sn_xrd_df[stitch_condition].sort_values(by=['Sn'])\n",
    "\n",
    "lib_Sn_list = lib_df['Sn'].tolist()\n",
    "lib_xrd_list = lib_df['xrd'].tolist()\n",
    "lib_theta_list = xrd_patterns[lib_xrd_list[0]]['data']['angle-2-theta']['value']\n",
    "lib_theta_list_arr = np.array(lib_theta_list)\n",
    "condition = np.logical_and(lib_theta_list_arr >= theta_min, lib_theta_list_arr <= theta_max)\n",
    "lib_theta_list_new = lib_theta_list_arr[condition]\n",
    "lib_theta_list = list(lib_theta_list_new)\n",
    "\n",
    "xrd_mat = list()\n",
    "for xrd in lib_xrd_list:\n",
    "    pattern = np.array(xrd_patterns[xrd]['data']['intensity']['value'])\n",
    "    bg = snip_method(pattern,0.0,1.0,0.0,iter_num=20)\n",
    "    pattern_bg_sub = pattern - bg\n",
    "    pattern_range = pattern_bg_sub[condition]\n",
    "    pattern_norm = pattern_range/max(pattern_range)\n",
    "    xrd_mat.append(list(pattern_norm))\n",
    "\n",
    "\n",
    "xrd_mat_np = np.array(xrd_mat)\n",
    "xrd_mat_np_T = np.transpose(xrd_mat_np)\n",
    "\n",
    "X,Y = np.meshgrid(lib_Sn_list,lib_theta_list)\n",
    "Z = xrd_mat_np_T\n",
    "\n",
    "plt.figure(figsize=(6,6))\n",
    "plt.pcolormesh(X,Y,Z,cmap='inferno',linewidth=0,rasterized=True)\n",
    "plt.xlabel('Sn/(Sn+Zn+Ti)')\n",
    "plt.ylabel('2θ (deg)')\n",
    "cbar = plt.colorbar()\n",
    "cbar.set_label('Intensity (arb. u.)',rotation=90)\n",
    "f_name = 'xrd-Sn-range-NREL-NREL.pdf'\n",
    "plt.savefig(f_name, bbox_inches='tight')\n",
    "plt.show()"
   ]
  },
  {
   "cell_type": "code",
   "execution_count": null,
   "metadata": {
    "collapsed": true
   },
   "outputs": [],
   "source": [
    "theta_min = 30.0\n",
    "theta_max = 40.0\n",
    "\n",
    "nrel_1 = \"20.500.12048/lib.2016.1b\"\n",
    "nrel_2 = \"20.500.12048/lib.2016.2b\"\n",
    "nrel_3 = \"20.500.12048/lib.2016.3b\"\n",
    "\n",
    "stitch_condition = (Sn_xrd_df['lib']==nrel_1) | (Sn_xrd_df['lib']==nrel_2) | (Sn_xrd_df['lib']==nrel_3)\n",
    "lib_df = Sn_xrd_df[stitch_condition].sort_values(by=['Sn'])\n",
    "\n",
    "lib_Sn_list = lib_df['Sn'].tolist()\n",
    "lib_xrd_list = lib_df['xrd'].tolist()\n",
    "lib_theta_list = xrd_patterns[lib_xrd_list[0]]['data']['angle-2-theta']['value']\n",
    "lib_theta_list_arr = np.array(lib_theta_list)\n",
    "condition = np.logical_and(lib_theta_list_arr >= theta_min, lib_theta_list_arr <= theta_max)\n",
    "lib_theta_list_new = lib_theta_list_arr[condition]\n",
    "lib_theta_list = list(lib_theta_list_new)\n",
    "\n",
    "xrd_mat = list()\n",
    "for xrd in lib_xrd_list:\n",
    "    pattern = np.array(xrd_patterns[xrd]['data']['intensity']['value'])\n",
    "    bg = snip_method(pattern,0.0,1.0,0.0,iter_num=20)\n",
    "    pattern_bg_sub = pattern - bg\n",
    "    pattern_range = pattern_bg_sub[condition]\n",
    "    pattern_norm = pattern_range/max(pattern_range)\n",
    "    xrd_mat.append(list(pattern_norm))\n",
    "\n",
    "\n",
    "xrd_mat_np = np.array(xrd_mat)\n",
    "xrd_mat_np_T = np.transpose(xrd_mat_np)\n",
    "\n",
    "X,Y = np.meshgrid(lib_Sn_list,lib_theta_list)\n",
    "Z = xrd_mat_np_T\n",
    "\n",
    "plt.figure(figsize=(6,6))\n",
    "plt.pcolormesh(X,Y,Z,cmap='inferno',linewidth=0,rasterized=True)\n",
    "plt.xlabel('Sn/(Sn+Zn+Ti)')\n",
    "plt.ylabel('2θ (deg)')\n",
    "cbar = plt.colorbar()\n",
    "cbar.set_label('Intensity (arb. u.)',rotation=90)\n",
    "f_name = 'xrd-Sn-range-NREL-NIST.pdf'\n",
    "plt.savefig(f_name, bbox_inches='tight')\n",
    "plt.show()"
   ]
  },
  {
   "cell_type": "code",
   "execution_count": null,
   "metadata": {
    "collapsed": true
   },
   "outputs": [],
   "source": []
  }
 ],
 "metadata": {
  "kernelspec": {
   "display_name": "Python 3",
   "language": "python",
   "name": "python3"
  },
  "language_info": {
   "codemirror_mode": {
    "name": "ipython",
    "version": 3
   },
   "file_extension": ".py",
   "mimetype": "text/x-python",
   "name": "python",
   "nbconvert_exporter": "python",
   "pygments_lexer": "ipython3",
   "version": "3.6.1"
  }
 },
 "nbformat": 4,
 "nbformat_minor": 2
}
